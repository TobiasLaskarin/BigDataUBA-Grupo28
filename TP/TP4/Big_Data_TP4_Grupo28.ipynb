{
 "cells": [
  {
   "cell_type": "code",
   "execution_count": 1,
   "id": "25825d7b-61db-4399-b6e8-500adad7c0e6",
   "metadata": {},
   "outputs": [],
   "source": [
    "%matplotlib inline\n",
    "import pandas as pd\n",
    "import numpy as np\n",
    "import matplotlib.pyplot as plt\n",
    "import seaborn as sns\n",
    "import re\n",
    "import os\n",
    "import statsmodels.api as sm\n",
    "\n",
    "from sklearn.preprocessing import scale\n",
    "from sklearn.linear_model import Lasso, LassoCV, Ridge, RidgeCV, ElasticNet, ElasticNetCV\n",
    "from sklearn.model_selection import train_test_split\n",
    "from sklearn.tree import DecisionTreeClassifier, plot_tree\n",
    "from sklearn.metrics import accuracy_score\n",
    "from sklearn.model_selection import KFold, GridSearchCV\n",
    "from sklearn.model_selection import cross_val_score\n",
    "from sklearn import metrics \n",
    "from sklearn.metrics import mean_squared_error, accuracy_score\n",
    "from sklearn.metrics import classification_report, confusion_matrix\n",
    "from sklearn.utils import resample\n",
    "from sklearn.preprocessing import StandardScaler \n",
    "from sklearn.model_selection import train_test_split \n",
    "from sklearn.model_selection import KFold, GridSearchCV\n",
    "from sklearn.model_selection import cross_val_score\n",
    "from sklearn.tree import DecisionTreeRegressor\n",
    "from sklearn.ensemble import BaggingRegressor\n",
    "from sklearn.ensemble import RandomForestRegressor\n",
    "from sklearn.ensemble import GradientBoostingRegressor\n",
    "from sklearn.ensemble import AdaBoostRegressor\n",
    "from tabulate import tabulate\n",
    "\n",
    "# Ruta del archivo a trabajar\n",
    "res_file_path = 'C:/Users/Toba/FCE/Big Data/Github/BigDataUBA-Grupo28/TP/TP4/Bases/respondieron.xlsx'\n",
    "\n",
    "# Leer el archivo\n",
    "df_res = pd.read_excel(res_file_path)"
   ]
  },
  {
   "cell_type": "code",
   "execution_count": 2,
   "id": "71bb8cf5-46f9-4c0d-8076-2d4284a91cec",
   "metadata": {},
   "outputs": [
    {
     "data": {
      "text/plain": [
       "array([3, 1, 2, 4], dtype=int64)"
      ]
     },
     "execution_count": 2,
     "metadata": {},
     "output_type": "execute_result"
    }
   ],
   "source": [
    "df_res['ESTADO'].unique()"
   ]
  },
  {
   "cell_type": "code",
   "execution_count": 3,
   "id": "fd5c618a-25d3-4e4a-aeeb-4836786acb7e",
   "metadata": {},
   "outputs": [
    {
     "data": {
      "text/plain": [
       "array([4, 3, 2, 5, 1], dtype=int64)"
      ]
     },
     "execution_count": 3,
     "metadata": {},
     "output_type": "execute_result"
    }
   ],
   "source": [
    "df_res['CH07'].unique()"
   ]
  },
  {
   "cell_type": "code",
   "execution_count": 4,
   "id": "1c4e63e2-5e1f-4153-9e46-a3b00a6942ce",
   "metadata": {},
   "outputs": [
    {
     "data": {
      "text/plain": [
       "array(['79.0', '67.0', '74.0', '54.0', '51.0', '25.0', '20.0', '55.0',\n",
       "       '48.0', '17.0', '15.0', '77.0', '50.0', '49.0', '26.0', '22.0',\n",
       "       '18.0', '86.0', '62.0', '76.0', '45.0', '41.0', '21.0', '31.0',\n",
       "       '19.0', '52.0', '12.0', '32.0', '29.0', '64.0', '10.0', '47.0',\n",
       "       '43.0', '13.0', '3.0', '46.0', '78.0', '60.0', '59.0', '37.0',\n",
       "       '44.0', '30.0', '63.0', '71.0', '87.0', '34.0', '14.0', '24.0',\n",
       "       '28.0', '27.0', '69.0', '56.0', '33.0', '66.0', '61.0', '1.0',\n",
       "       '92.0', 'Menos de 1 año', '65.0', '57.0', '23.0', '4.0', '40.0',\n",
       "       '16.0', '9.0', '83.0', '6.0', '38.0', '75.0', '11.0', '53.0',\n",
       "       '73.0', '39.0', '35.0', '7.0', '5.0', '36.0', '8.0', '82.0',\n",
       "       '85.0', '72.0', '70.0', '89.0', '42.0', '2.0', '58.0', '68.0',\n",
       "       '81.0', '80.0', '93.0', '96.0', '84.0', '90.0', '94.0', '88.0',\n",
       "       '98 y más años', '85', '59', '57', '26', '88', '81', '43', '66',\n",
       "       '50', '30', '10', '5', '46', '56', '61', '62', '29', '77', '80',\n",
       "       '78', '75', '58', '15', '48', '23', '14', '79', '47', '42', '11',\n",
       "       '65', '71', '70', '45', '51', '86', '64', '82', '6', '74', '39',\n",
       "       '17', '8', '3', '1', '32', '60', '22', '44', '37', '34', '21',\n",
       "       '18', '24', '54', '25', '76', '35', '31', '12', '7', '72', '40',\n",
       "       '63', '19', '36', '9', '28', '27', '83', '33', '73', '41', '84',\n",
       "       '91', '53', '16', '52', '49', '13', '55', '4', '68', '69', '20',\n",
       "       '90', nan, '89', '67', '38', '2', '92', '95', '96', '93', '94',\n",
       "       '87', '97'], dtype=object)"
      ]
     },
     "execution_count": 4,
     "metadata": {},
     "output_type": "execute_result"
    }
   ],
   "source": [
    "df_res['CH06'].unique()"
   ]
  },
  {
   "cell_type": "code",
   "execution_count": 5,
   "id": "7f5c259e-da34-4633-b804-ceca212d8a43",
   "metadata": {},
   "outputs": [
    {
     "data": {
      "text/plain": [
       "array([1, 2], dtype=int64)"
      ]
     },
     "execution_count": 5,
     "metadata": {},
     "output_type": "execute_result"
    }
   ],
   "source": [
    "df_res['CH04'].unique()"
   ]
  },
  {
   "cell_type": "code",
   "execution_count": 6,
   "id": "e2402652-b73a-4c28-af7e-97d83be83677",
   "metadata": {},
   "outputs": [
    {
     "data": {
      "text/plain": [
       "array([3.6800e+02, 0.0000e+00, 4.4000e+02, ..., 1.5825e+05, 2.7250e+05,\n",
       "       9.1000e+05])"
      ]
     },
     "execution_count": 6,
     "metadata": {},
     "output_type": "execute_result"
    }
   ],
   "source": [
    "df_res['IPCF'].unique()"
   ]
  },
  {
   "cell_type": "code",
   "execution_count": 7,
   "id": "4ad305af-9a2e-4a59-9704-e5b00a6935df",
   "metadata": {},
   "outputs": [
    {
     "data": {
      "text/plain": [
       "array([3, 2, 6, 5, 4, 1, 0, 7], dtype=int64)"
      ]
     },
     "execution_count": 7,
     "metadata": {},
     "output_type": "execute_result"
    }
   ],
   "source": [
    "df_res['NIVEL_ED'].unique()"
   ]
  },
  {
   "cell_type": "code",
   "execution_count": 8,
   "id": "4b967531-1017-4ecf-9904-8502a7780e44",
   "metadata": {},
   "outputs": [],
   "source": [
    "# Crear la columna 'DESOCUPADO' (1 si ESTADO es 2, 0 si no lo es)\n",
    "df_res['DESOCUPADO'] = (df_res['ESTADO'] == 2).astype(int)"
   ]
  },
  {
   "cell_type": "code",
   "execution_count": 9,
   "id": "50639c50-fa4b-471e-b3aa-f16c70d86fb7",
   "metadata": {},
   "outputs": [
    {
     "name": "stdout",
     "output_type": "stream",
     "text": [
      "               Media Entrenamiento   Media Prueba    Diferencia\n",
      "2004 ones                 1.000000       1.000000      0.000000\n",
      "     CH06                33.451076      34.050611     -0.599535\n",
      "     NIVEL_ED             2.691113       2.661867      0.029246\n",
      "     IPCF               358.227007     373.852669    -15.625662\n",
      "     CH04                 1.532647       1.520942      0.011705\n",
      "     CH07                 3.512067       3.456370      0.055697\n",
      "2024 ones                 1.000000       1.000000      0.000000\n",
      "     CH06                38.205544      38.105314      0.100231\n",
      "     NIVEL_ED             3.832892       3.849263     -0.016371\n",
      "     IPCF            165539.752107  150432.498954  15107.253153\n",
      "     CH04                 1.518647       1.533999     -0.015352\n",
      "     CH07                 3.431424       3.436519     -0.005095\n"
     ]
    }
   ],
   "source": [
    "#Punto A\n",
    "años = df_res['ANO4'].unique()\n",
    "\n",
    "# Inicializar un DataFrame vacío para almacenar la diferencia de medias\n",
    "diff_means_list = []\n",
    "\n",
    "for año in años:\n",
    "    # Filtrar por año\n",
    "    df_año = df_res[df_res['ANO4'] == año].copy()\n",
    "    \n",
    "    # Limpiar CH06 (edad)\n",
    "    df_año['CH06'] = df_año['CH06'].replace({\n",
    "        'Menos de 1 año': 0,\n",
    "        '98 y más años': 98\n",
    "    }).astype(float)\n",
    "\n",
    "    # Variables numéricas\n",
    "    X_num = df_año[['CH06', 'NIVEL_ED', 'IPCF', 'CH04']]\n",
    "\n",
    "    # Variables categóricas\n",
    "    X_cat = df_año[['CH07']]  # solo estado civil\n",
    "\n",
    "    # Transformar categóricas\n",
    "    X_cat_dummies = pd.get_dummies(X_cat, drop_first=True)\n",
    "\n",
    "    # Combinar todo\n",
    "    X_final = pd.concat([X_num, X_cat_dummies], axis=1)\n",
    "\n",
    "    # Variable dependiente\n",
    "    y = df_año['DESOCUPADO']\n",
    "    \n",
    "    # Dividir en entrenamiento (70%) y prueba (30%)\n",
    "    X_train, X_test, y_train, y_test = train_test_split(X_final, y, test_size=0.3, random_state=444)\n",
    "    \n",
    "    # Agregar columna de unos\n",
    "    X_train = pd.concat([pd.DataFrame({'ones': [1] * X_train.shape[0]}, index=X_train.index), X_train], axis=1)\n",
    "    X_test = pd.concat([pd.DataFrame({'ones': [1] * X_test.shape[0]}, index=X_test.index), X_test], axis=1)\n",
    "    \n",
    "    # Calcular la diferencia de medias\n",
    "    mean_train = X_train.mean()\n",
    "    mean_test = X_test.mean()\n",
    "    mean_diff = mean_train - mean_test\n",
    "    \n",
    "    diff_df = pd.DataFrame({\n",
    "        'Media Entrenamiento': mean_train,\n",
    "        'Media Prueba': mean_test,\n",
    "        'Diferencia': mean_diff\n",
    "    })\n",
    "    \n",
    "    diff_means_list.append(diff_df)\n",
    "\n",
    "# Concatenar resultados de todos los años\n",
    "diff_means_df = pd.concat(diff_means_list, keys=años)\n",
    "\n",
    "# Mostrar resultado final\n",
    "print(diff_means_df)"
   ]
  },
  {
   "cell_type": "code",
   "execution_count": 10,
   "id": "4cec1401-6fe3-4c8b-995b-aebc36bedf2e",
   "metadata": {},
   "outputs": [],
   "source": [
    "# Mapear y limpiar CH06\n",
    "df_res['CH06'] = df_res['CH06'].replace({\n",
    "    'Menos de 1 año': 0,\n",
    "    '98 y más años': 98\n",
    "}).astype(float)\n",
    "\n",
    "# Renombrar CH06 a 'edad'\n",
    "df_res = df_res.rename(columns={'CH06': 'edad'})\n",
    "\n",
    "# 1. Crear edad2\n",
    "df_res['edad2'] = df_res['edad'] ** 2"
   ]
  },
  {
   "cell_type": "code",
   "execution_count": 11,
   "id": "2e0378e7-f52c-46de-a0ab-98001a57ea92",
   "metadata": {},
   "outputs": [
    {
     "data": {
      "text/plain": [
       "array(['No', 'Sí', '0.0', 'Ns./Nr.', '1', '2', '0', '9'], dtype=object)"
      ]
     },
     "execution_count": 11,
     "metadata": {},
     "output_type": "execute_result"
    }
   ],
   "source": [
    "df_res['CH13'].unique()"
   ]
  },
  {
   "cell_type": "code",
   "execution_count": 12,
   "id": "a4a8a1a7-dffc-442b-bdbe-f0b213730018",
   "metadata": {},
   "outputs": [
    {
     "data": {
      "text/plain": [
       "array(['Secundario', 'Primario', 'Universitario', 'Terciario', '0.0',\n",
       "       'Jardín/Preescolar', 'Polimodal', 'EGB',\n",
       "       'Educación especial (discapacitado)', 'Ns./Nr.',\n",
       "       'Posgrado Universitario', '2', '7', '4', '1', '6', '0', '9', '8',\n",
       "       '3', '99', '5'], dtype=object)"
      ]
     },
     "execution_count": 12,
     "metadata": {},
     "output_type": "execute_result"
    }
   ],
   "source": [
    "df_res['CH12'].unique()"
   ]
  },
  {
   "cell_type": "code",
   "execution_count": 13,
   "id": "c998e4e5-1019-4716-aeb7-b851889e6851",
   "metadata": {},
   "outputs": [
    {
     "data": {
      "text/plain": [
       "array(['03', '  ', '04', '02', '01', '06', '00', '05', '07', '09', '99',\n",
       "       '08', '98', nan, '2.0', '1.0', '0.0', '3.0', '99.0', '4.0', '5.0',\n",
       "       '98.0', '6.0', '8.0', '7.0', '9.0'], dtype=object)"
      ]
     },
     "execution_count": 13,
     "metadata": {},
     "output_type": "execute_result"
    }
   ],
   "source": [
    "df_res['CH14'].unique()"
   ]
  },
  {
   "cell_type": "code",
   "execution_count": 14,
   "id": "fce867e6-27f0-41b9-9d42-f9199dd685c8",
   "metadata": {},
   "outputs": [
    {
     "name": "stderr",
     "output_type": "stream",
     "text": [
      "C:\\Users\\Toba\\AppData\\Local\\Temp\\ipykernel_13300\\3713707569.py:9: FutureWarning: Downcasting behavior in `replace` is deprecated and will be removed in a future version. To retain the old behavior, explicitly call `result.infer_objects(copy=False)`. To opt-in to the future behavior, set `pd.set_option('future.no_silent_downcasting', True)`\n",
      "  df_res['CH13'] = df_res['CH13'].replace(map_ch13)\n"
     ]
    }
   ],
   "source": [
    "# Mapear CH13\n",
    "map_ch13 = {\n",
    "    'Sí': 1, '1': 1,\n",
    "    'No': 2, '2': 2,\n",
    "    'Ns./Nr.': 3, '0': 3, '0.0': 3, '9': 3\n",
    "    \n",
    "}\n",
    "\n",
    "df_res['CH13'] = df_res['CH13'].replace(map_ch13)\n",
    "df_res['CH13'] = pd.to_numeric(df_res['CH13'], errors='coerce').fillna(0).astype(int)\n",
    "\n",
    "# Mapear CH12\n",
    "map_ch12 = {\n",
    "    'Jardín/Preescolar': 1, '1': 1,\n",
    "    'Primario': 2, '2': 2,\n",
    "    'EGB': 3, '3': 3,\n",
    "    'Secundario': 4, '4': 4,\n",
    "    'Polimodal': 5, '5': 5,\n",
    "    'Terciario': 6, '6': 6,\n",
    "    'Universitario': 7, '7': 7,\n",
    "    'Posgrado Universitario': 8, '8': 8,\n",
    "    'Educación especial (discapacitado)': 9, '9': 9, \n",
    "     '0': 0, '0.0': 0, '99': 0\n",
    "}\n",
    "\n",
    "df_res['CH12'] = df_res['CH12'].replace(map_ch12)\n",
    "df_res['CH12'] = pd.to_numeric(df_res['CH12'], errors='coerce').fillna(0).astype(int)"
   ]
  },
  {
   "cell_type": "code",
   "execution_count": 15,
   "id": "5439e6ef-3d22-4c8a-a979-474ebcc2de62",
   "metadata": {},
   "outputs": [],
   "source": [
    "import numpy as np\n",
    "import pandas as pd\n",
    "\n",
    "# Mapear CH13\n",
    "map_ch13 = {\n",
    "    'Sí': 1, '1': 1,\n",
    "    'No': 2, '2': 2,\n",
    "    'Ns./Nr.': 3, '0': 3, '0.0': 3, '9': 3\n",
    "}\n",
    "df_res['CH13'] = df_res['CH13'].replace(map_ch13)\n",
    "df_res['CH13'] = df_res['CH13'].infer_objects(copy=False)\n",
    "df_res['CH13'] = pd.to_numeric(df_res['CH13'], errors='coerce').fillna(0).astype(int)\n",
    "\n",
    "# Mapear CH12\n",
    "map_ch12 = {\n",
    "    'Jardín/Preescolar': 1, '1': 1,\n",
    "    'Primario': 2, '2': 2,\n",
    "    'EGB': 3, '3': 3,\n",
    "    'Secundario': 4, '4': 4,\n",
    "    'Polimodal': 5, '5': 5,\n",
    "    'Terciario': 6, '6': 6,\n",
    "    'Universitario': 7, '7': 7,\n",
    "    'Posgrado Universitario': 8, '8': 8,\n",
    "    'Educación especial (discapacitado)': 9, '9': 9,\n",
    "    '0': 0, '0.0': 0, '99': 0\n",
    "}\n",
    "df_res['CH12'] = df_res['CH12'].replace(map_ch12)\n",
    "df_res['CH12'] = pd.to_numeric(df_res['CH12'], errors='coerce').fillna(0).astype(int)\n",
    "\n",
    "# Asegurar que CH14 también sea numérico\n",
    "df_res['CH14'] = pd.to_numeric(df_res['CH14'], errors='coerce').fillna(0).astype(int)\n",
    "\n",
    "# Crear función para calcular años de educación\n",
    "def calcular_educ_total(row):\n",
    "    nivel = row['CH12']\n",
    "    finalizo = row['CH13']\n",
    "    ch14 = row['CH14']\n",
    "\n",
    "    # Diccionario de años por nivel (coherente con los códigos)\n",
    "    años_por_nivel = {\n",
    "        1: 0,   # Jardín\n",
    "        2: 7,   # Primario\n",
    "        3: 9,   # EGB\n",
    "        4: 12,  # Secundario\n",
    "        5: 12,  # Polimodal\n",
    "        6: 15,  # Terciario\n",
    "        7: 17,  # Universitario\n",
    "        8: 20,  # Posgrado\n",
    "        9: 0    # Educación especial (no le asignamos años definidos)\n",
    "    }\n",
    "\n",
    "    # Si finalizó, tomar total del nivel\n",
    "    if finalizo == 1:\n",
    "        return años_por_nivel.get(nivel, np.nan)\n",
    "    else:\n",
    "        años_previos = años_por_nivel.get(nivel - 1, 0) if nivel > 1 else 0\n",
    "        total = años_previos + ch14\n",
    "        return min(total, 20)  # máximo 20 años\n",
    "\n",
    "# Aplicar al DataFrame\n",
    "df_res['educ'] = df_res.apply(calcular_educ_total, axis=1)\n",
    "\n",
    "# Filtrar valores válidos\n",
    "df_res['educ'] = df_res.apply(calcular_educ_total, axis=1)\n",
    "df_res.loc[(df_res['educ'] <= 0) | (df_res['educ'] >= 98), 'educ'] = np.nan"
   ]
  },
  {
   "cell_type": "code",
   "execution_count": 16,
   "id": "ecf82707-dee8-4036-b08a-f0128e86b3c9",
   "metadata": {},
   "outputs": [],
   "source": [
    "# Filtrar solo los valores mayores a 0 en 'P21'\n",
    "df_res = df_res[df_res['P21'] > 0].copy()  # Asegurarse de hacer una copia explícita\n",
    "\n",
    "# Definir la tasa de inflación\n",
    "inflacion = 100587.83 / 100  # 100,587.83% de inflación\n",
    "\n",
    "# Convertir los ingresos de 2004 a 2024 usando la inflación\n",
    "df_res.loc[:, 'Ingreso_2024'] = np.where(df_res['ANO4'] == 2004,\n",
    "                                                           df_res['P21'] * (1 + inflacion), \n",
    "                                                           df_res['P21'])\n",
    "\n",
    "# Asegurarse de que los ingresos en 2024 no sean negativos o muy bajos\n",
    "df_res.loc[:, 'Ingreso_2024'] = df_res['Ingreso_2024'].apply(lambda x: max(x, 0))\n",
    "\n",
    "# Calcular el salario semanal dividiendo por 40 horas a la semana\n",
    "df_res.loc[:, 'salario_semanal'] = df_res['Ingreso_2024'] / 4"
   ]
  },
  {
   "cell_type": "code",
   "execution_count": 17,
   "id": "1e83071c-205b-4d93-8482-51ad6b3c909a",
   "metadata": {},
   "outputs": [
    {
     "data": {
      "text/plain": [
       "array(['Sí', 'No', 'Ns./Nr.', '1', '2'], dtype=object)"
      ]
     },
     "execution_count": 17,
     "metadata": {},
     "output_type": "execute_result"
    }
   ],
   "source": [
    "df_res['CH09'].unique()"
   ]
  },
  {
   "cell_type": "code",
   "execution_count": 18,
   "id": "21640805-5d17-4552-9621-3107a33f0de3",
   "metadata": {},
   "outputs": [
    {
     "data": {
      "text/plain": [
       "array(['0.0', 'Público', 'Privado', '0', '2', '1', '9'], dtype=object)"
      ]
     },
     "execution_count": 18,
     "metadata": {},
     "output_type": "execute_result"
    }
   ],
   "source": [
    "df_res['CH11'].unique()"
   ]
  },
  {
   "cell_type": "code",
   "execution_count": 19,
   "id": "76fe4beb-1b03-42ac-873e-e5586dad9f83",
   "metadata": {},
   "outputs": [],
   "source": [
    "# Mapear CH09\n",
    "map_ch09 = {\n",
    "    'Sí, asiste': 1, '1': 1,\n",
    "    'No asiste, pero asistió': 2, '2': 2,\n",
    "    'Nunca asistió': 0, '3': 0\n",
    "}\n",
    "\n",
    "df_res['CH09'] = df_res['CH09'].replace(map_ch09)\n",
    "df_res['CH09'] = pd.to_numeric(df_res['CH09'], errors='coerce').fillna(0).astype(int)\n",
    "\n",
    "# Mapear CH11\n",
    "map_ch11 = {\n",
    "    '... público': 1, '1': 1,\n",
    "    '... privado': 2, '2': 2,\n",
    "    '... Ns/Nr': 9, '9': 9,\n",
    "    '0': 9, '0.0': 9\n",
    "}\n",
    "\n",
    "df_res['CH11'] = df_res['CH11'].replace(map_ch11)\n",
    "df_res['CH11'] = pd.to_numeric(df_res['CH11'], errors='coerce').fillna(9).astype(int)"
   ]
  },
  {
   "cell_type": "code",
   "execution_count": 22,
   "id": "5e49b6e4-e6b3-41a3-acaf-4fa67d400cab",
   "metadata": {},
   "outputs": [
    {
     "name": "stdout",
     "output_type": "stream",
     "text": [
      "\n",
      "Modelo i:\n",
      "\n",
      "       Coeficiente  Desvío estándar\n",
      "const    93482.494         10982.67\n",
      "edad      1235.645           256.60\n",
      "\n",
      "Modelo ii:\n",
      "\n",
      "       Coeficiente  Desvío estándar\n",
      "const   -65696.295         29113.48\n",
      "edad      9510.613          1425.56\n",
      "edad2      -96.324            16.32\n",
      "\n",
      "Modelo iii:\n",
      "\n",
      "       Coeficiente  Desvío estándar\n",
      "const  -222709.813         31126.32\n",
      "edad      9995.236          1403.01\n",
      "edad2      -95.973            16.06\n",
      "educ     11125.782           863.33\n",
      "\n",
      "Modelo iv:\n",
      "\n",
      "       Coeficiente  Desvío estándar\n",
      "const  -219735.962         30840.99\n",
      "edad     10756.519          1392.30\n",
      "edad2     -104.177            15.94\n",
      "educ     11992.135           860.03\n",
      "mujer   -67021.017          6910.69\n",
      "\n",
      "Modelo v:\n",
      "\n",
      "       Coeficiente  Desvío estándar\n",
      "const  -250973.344         34566.31\n",
      "edad     11330.248          1369.11\n",
      "edad2     -105.490            15.61\n",
      "educ     15338.860           868.07\n",
      "mujer   -62516.812          6747.64\n",
      "CH11      1845.660          2226.24\n",
      "CH09   -111000.825          7101.58\n"
     ]
    }
   ],
   "source": [
    "# Filtrar solo los ocupados\n",
    "df_ocupados = df_res[df_res['ESTADO'] == 1]  # Ajusta el nombre de la columna según tu dataset\n",
    "\n",
    "df_ocupados['mujer'] = np.where(df_ocupados['CH04'] == 2, 1, 0)  # 1 si mujer, 0 si no\n",
    "df_ocupados = df_ocupados.dropna(subset=['educ'])\n",
    "\n",
    "\n",
    "# Variables predictoras\n",
    "X1 = df_ocupados[['edad']]  # Modelo i\n",
    "X2 = df_ocupados[['edad', 'edad2']]  # Modelo ii\n",
    "X3 = df_ocupados[['edad', 'edad2', 'educ']]  # Modelo iii\n",
    "X4 = df_ocupados[['edad', 'edad2', 'educ', 'mujer']]  # Modelo iv\n",
    "X5 = df_ocupados[['edad', 'edad2', 'educ', 'mujer', 'CH11', 'CH09']]  # Modelo v (sustituye por las variables que creaste)\n",
    "\n",
    "# Variable dependiente\n",
    "y = df_ocupados['salario_semanal']\n",
    "\n",
    "# Añadir la constante para el intercepto\n",
    "X1 = sm.add_constant(X1)\n",
    "X2 = sm.add_constant(X2)\n",
    "X3 = sm.add_constant(X3)\n",
    "X4 = sm.add_constant(X4)\n",
    "X5 = sm.add_constant(X5)\n",
    "\n",
    "# Crear un diccionario para almacenar los resultados\n",
    "resultados = {}\n",
    "\n",
    "# Estimar cada modelo\n",
    "modelos = {'Modelo i': X1, 'Modelo ii': X2, 'Modelo iii': X3, 'Modelo iv': X4, 'Modelo v': X5}\n",
    "\n",
    "for modelo, X_data in modelos.items():\n",
    "    # Ajustar el modelo de regresión lineal\n",
    "    model = sm.OLS(y, X_data).fit()\n",
    "    \n",
    "    # Guardar los coeficientes y los desvíos estándar\n",
    "    coeficientes = model.params.round(3)\n",
    "    desviacion = model.bse.round(2)\n",
    "    \n",
    "    # Almacenar en el diccionario\n",
    "    resultados[modelo] = pd.DataFrame({'Coeficiente': coeficientes, 'Desvío estándar': desviacion})\n",
    "    \n",
    "# Mostrar los resultados\n",
    "for modelo, resultado in resultados.items():\n",
    "    print(f\"\\n{modelo}:\\n\")\n",
    "    print(resultado)"
   ]
  },
  {
   "cell_type": "code",
   "execution_count": null,
   "id": "71c5c74d-4813-453b-87bf-52adf4f3c534",
   "metadata": {},
   "outputs": [],
   "source": []
  }
 ],
 "metadata": {
  "kernelspec": {
   "display_name": "Python 3 (ipykernel)",
   "language": "python",
   "name": "python3"
  },
  "language_info": {
   "codemirror_mode": {
    "name": "ipython",
    "version": 3
   },
   "file_extension": ".py",
   "mimetype": "text/x-python",
   "name": "python",
   "nbconvert_exporter": "python",
   "pygments_lexer": "ipython3",
   "version": "3.12.7"
  }
 },
 "nbformat": 4,
 "nbformat_minor": 5
}
