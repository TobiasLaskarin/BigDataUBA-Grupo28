{
 "cells": [
  {
   "cell_type": "code",
   "execution_count": 1,
   "id": "25825d7b-61db-4399-b6e8-500adad7c0e6",
   "metadata": {},
   "outputs": [],
   "source": [
    "%matplotlib inline\n",
    "import pandas as pd\n",
    "import numpy as np\n",
    "import matplotlib.pyplot as plt\n",
    "import seaborn as sns\n",
    "import re\n",
    "import os\n",
    "\n",
    "from sklearn.preprocessing import scale\n",
    "from sklearn.linear_model import Lasso, LassoCV, Ridge, RidgeCV, ElasticNet, ElasticNetCV\n",
    "from sklearn.model_selection import train_test_split\n",
    "from sklearn.tree import DecisionTreeClassifier, plot_tree\n",
    "from sklearn.metrics import accuracy_score\n",
    "from sklearn.model_selection import KFold, GridSearchCV\n",
    "from sklearn.model_selection import cross_val_score\n",
    "from sklearn import metrics \n",
    "from sklearn.metrics import mean_squared_error, accuracy_score\n",
    "from sklearn.metrics import classification_report, confusion_matrix\n",
    "from sklearn.utils import resample\n",
    "from sklearn.preprocessing import StandardScaler \n",
    "from sklearn.model_selection import train_test_split \n",
    "from sklearn.model_selection import KFold, GridSearchCV\n",
    "from sklearn.model_selection import cross_val_score\n",
    "from sklearn.tree import DecisionTreeRegressor\n",
    "from sklearn.ensemble import BaggingRegressor\n",
    "from sklearn.ensemble import RandomForestRegressor\n",
    "from sklearn.ensemble import GradientBoostingRegressor\n",
    "from sklearn.ensemble import AdaBoostRegressor \n",
    "\n",
    "# Ruta del archivo a trabajar\n",
    "res_file_path = 'C:/Users/Toba/FCE/Big Data/Github/BigDataUBA-Grupo28/TP/TP4/Bases/respondieron.xlsx'\n",
    "\n",
    "# Leer el archivo\n",
    "df_res = pd.read_excel(res_file_path)"
   ]
  },
  {
   "cell_type": "code",
   "execution_count": 10,
   "id": "71bb8cf5-46f9-4c0d-8076-2d4284a91cec",
   "metadata": {},
   "outputs": [
    {
     "data": {
      "text/plain": [
       "array([3, 1, 2, 4], dtype=int64)"
      ]
     },
     "execution_count": 10,
     "metadata": {},
     "output_type": "execute_result"
    }
   ],
   "source": [
    "df_res['ESTADO'].unique()"
   ]
  },
  {
   "cell_type": "code",
   "execution_count": 9,
   "id": "fd5c618a-25d3-4e4a-aeeb-4836786acb7e",
   "metadata": {},
   "outputs": [
    {
     "data": {
      "text/plain": [
       "array([4, 3, 2, 5, 1], dtype=int64)"
      ]
     },
     "execution_count": 9,
     "metadata": {},
     "output_type": "execute_result"
    }
   ],
   "source": [
    "df_res['CH07'].unique()"
   ]
  },
  {
   "cell_type": "code",
   "execution_count": 8,
   "id": "1c4e63e2-5e1f-4153-9e46-a3b00a6942ce",
   "metadata": {},
   "outputs": [
    {
     "data": {
      "text/plain": [
       "array(['79.0', '67.0', '74.0', '54.0', '51.0', '25.0', '20.0', '55.0',\n",
       "       '48.0', '17.0', '15.0', '77.0', '50.0', '49.0', '26.0', '22.0',\n",
       "       '18.0', '86.0', '62.0', '76.0', '45.0', '41.0', '21.0', '31.0',\n",
       "       '19.0', '52.0', '12.0', '32.0', '29.0', '64.0', '10.0', '47.0',\n",
       "       '43.0', '13.0', '3.0', '46.0', '78.0', '60.0', '59.0', '37.0',\n",
       "       '44.0', '30.0', '63.0', '71.0', '87.0', '34.0', '14.0', '24.0',\n",
       "       '28.0', '27.0', '69.0', '56.0', '33.0', '66.0', '61.0', '1.0',\n",
       "       '92.0', 'Menos de 1 año', '65.0', '57.0', '23.0', '4.0', '40.0',\n",
       "       '16.0', '9.0', '83.0', '6.0', '38.0', '75.0', '11.0', '53.0',\n",
       "       '73.0', '39.0', '35.0', '7.0', '5.0', '36.0', '8.0', '82.0',\n",
       "       '85.0', '72.0', '70.0', '89.0', '42.0', '2.0', '58.0', '68.0',\n",
       "       '81.0', '80.0', '93.0', '96.0', '84.0', '90.0', '94.0', '88.0',\n",
       "       '98 y más años', '85', '59', '57', '26', '88', '81', '43', '66',\n",
       "       '50', '30', '10', '5', '46', '56', '61', '62', '29', '77', '80',\n",
       "       '78', '75', '58', '15', '48', '23', '14', '79', '47', '42', '11',\n",
       "       '65', '71', '70', '45', '51', '86', '64', '82', '6', '74', '39',\n",
       "       '17', '8', '3', '1', '32', '60', '22', '44', '37', '34', '21',\n",
       "       '18', '24', '54', '25', '76', '35', '31', '12', '7', '72', '40',\n",
       "       '63', '19', '36', '9', '28', '27', '83', '33', '73', '41', '84',\n",
       "       '91', '53', '16', '52', '49', '13', '55', '4', '68', '69', '20',\n",
       "       '90', nan, '89', '67', '38', '2', '92', '95', '96', '93', '94',\n",
       "       '87', '97'], dtype=object)"
      ]
     },
     "execution_count": 8,
     "metadata": {},
     "output_type": "execute_result"
    }
   ],
   "source": [
    "df_res['CH06'].unique()"
   ]
  },
  {
   "cell_type": "code",
   "execution_count": 7,
   "id": "7f5c259e-da34-4633-b804-ceca212d8a43",
   "metadata": {},
   "outputs": [
    {
     "data": {
      "text/plain": [
       "array([1, 2], dtype=int64)"
      ]
     },
     "execution_count": 7,
     "metadata": {},
     "output_type": "execute_result"
    }
   ],
   "source": [
    "df_res['CH04'].unique()"
   ]
  },
  {
   "cell_type": "code",
   "execution_count": 6,
   "id": "e2402652-b73a-4c28-af7e-97d83be83677",
   "metadata": {},
   "outputs": [
    {
     "data": {
      "text/plain": [
       "array([3.6800e+02, 0.0000e+00, 4.4000e+02, ..., 1.5825e+05, 2.7250e+05,\n",
       "       9.1000e+05])"
      ]
     },
     "execution_count": 6,
     "metadata": {},
     "output_type": "execute_result"
    }
   ],
   "source": [
    "df_res['IPCF'].unique()"
   ]
  },
  {
   "cell_type": "code",
   "execution_count": 11,
   "id": "4ad305af-9a2e-4a59-9704-e5b00a6935df",
   "metadata": {},
   "outputs": [
    {
     "data": {
      "text/plain": [
       "array([3, 2, 6, 5, 4, 1, 0, 7], dtype=int64)"
      ]
     },
     "execution_count": 11,
     "metadata": {},
     "output_type": "execute_result"
    }
   ],
   "source": [
    "df_res['NIVEL_ED'].unique()"
   ]
  },
  {
   "cell_type": "code",
   "execution_count": 4,
   "id": "4b967531-1017-4ecf-9904-8502a7780e44",
   "metadata": {},
   "outputs": [
    {
     "name": "stdout",
     "output_type": "stream",
     "text": [
      "       V11_M  DECIFR PP04C99  PP09B  PP3E_TOT PP02C3  IPCF  V9_M CAT_OCUP  \\\n",
      "14642    NaN      12     NaN    NaN       NaN      0   0.0   0.0      NaN   \n",
      "14643    NaN      12     NaN    NaN       NaN      2   0.0   0.0        2   \n",
      "14644    NaN      12     2.0    0.0      45.0      0   0.0   0.0        3   \n",
      "14645    NaN      12     0.0    0.0      12.0      0   0.0   0.0        3   \n",
      "14646    NaN      12     0.0    0.0       0.0      0   0.0   0.0        3   \n",
      "\n",
      "      PP09A  ... INTENSI  V10_M CH13  PP06D CH16_COD PDECCFR PP02C4  \\\n",
      "14642   NaN  ...     NaN    0.0    1    NaN      NaN     NaN      0   \n",
      "14643   NaN  ...     NaN    0.0    1    NaN      NaN     NaN      2   \n",
      "14644   2.0  ...     2.0    0.0    1    0.0      NaN     NaN      0   \n",
      "14645   2.0  ...     2.0    0.0    1    0.0      NaN     NaN      0   \n",
      "14646   1.0  ...     4.0    0.0    2    0.0      NaN     NaN      0   \n",
      "\n",
      "      PP11B2_ANO PP08J1 DESOCUPADO  \n",
      "14642        NaN    NaN          0  \n",
      "14643        0.0    NaN          1  \n",
      "14644        NaN    0.0          0  \n",
      "14645        NaN    0.0          0  \n",
      "14646        NaN    0.0          0  \n",
      "\n",
      "[5 rows x 173 columns]\n"
     ]
    }
   ],
   "source": [
    "# Crear la columna 'DESOCUPADO' (1 si ESTADO es 2, 0 si no lo es)\n",
    "df_res['DESOCUPADO'] = (df_res['ESTADO'] == 2).astype(int)"
   ]
  },
  {
   "cell_type": "code",
   "execution_count": 18,
   "id": "50639c50-fa4b-471e-b3aa-f16c70d86fb7",
   "metadata": {},
   "outputs": [
    {
     "name": "stdout",
     "output_type": "stream",
     "text": [
      "               Media Entrenamiento   Media Prueba    Diferencia\n",
      "2004 ones                 1.000000       1.000000      0.000000\n",
      "     CH06                33.451076      34.050611     -0.599535\n",
      "     NIVEL_ED             2.691113       2.661867      0.029246\n",
      "     IPCF               358.227007     373.852669    -15.625662\n",
      "     CH04                 1.532647       1.520942      0.011705\n",
      "     CH07                 3.512067       3.456370      0.055697\n",
      "2024 ones                 1.000000       1.000000      0.000000\n",
      "     CH06                38.205544      38.105314      0.100231\n",
      "     NIVEL_ED             3.832892       3.849263     -0.016371\n",
      "     IPCF            165539.752107  150432.498954  15107.253153\n",
      "     CH04                 1.518647       1.533999     -0.015352\n",
      "     CH07                 3.431424       3.436519     -0.005095\n"
     ]
    }
   ],
   "source": [
    "#Punto A\n",
    "for año in años:\n",
    "    # Filtrar por año\n",
    "    df_año = df_res[df_res['ANO4'] == año].copy()\n",
    "    \n",
    "    # Limpiar CH06 (edad)\n",
    "    df_año['CH06'] = df_año['CH06'].replace({\n",
    "        'Menos de 1 año': 0,\n",
    "        '98 y más años': 98\n",
    "    }).astype(float)\n",
    "\n",
    "    # Variables numéricas\n",
    "    X_num = df_año[['CH06', 'NIVEL_ED', 'IPCF', 'CH04']]\n",
    "\n",
    "    # Variables categóricas\n",
    "    X_cat = df_año[['CH07']]  # solo estado civil\n",
    "\n",
    "    # Transformar categóricas\n",
    "    X_cat_dummies = pd.get_dummies(X_cat, drop_first=True)\n",
    "\n",
    "    # Combinar todo\n",
    "    X_final = pd.concat([X_num, X_cat_dummies], axis=1)\n",
    "\n",
    "    # Variable dependiente\n",
    "    y = df_año['DESOCUPADO']\n",
    "    \n",
    "    # Dividir en entrenamiento (70%) y prueba (30%)\n",
    "    X_train, X_test, y_train, y_test = train_test_split(X_final, y, test_size=0.3, random_state=444)\n",
    "    \n",
    "    # Agregar columna de unos\n",
    "    X_train = pd.concat([pd.DataFrame({'ones': [1] * X_train.shape[0]}, index=X_train.index), X_train], axis=1)\n",
    "    X_test = pd.concat([pd.DataFrame({'ones': [1] * X_test.shape[0]}, index=X_test.index), X_test], axis=1)\n",
    "    \n",
    "    # Calcular la diferencia de medias\n",
    "    mean_train = X_train.mean()\n",
    "    mean_test = X_test.mean()\n",
    "    mean_diff = mean_train - mean_test\n",
    "    \n",
    "    diff_df = pd.DataFrame({\n",
    "        'Media Entrenamiento': mean_train,\n",
    "        'Media Prueba': mean_test,\n",
    "        'Diferencia': mean_diff\n",
    "    })\n",
    "    \n",
    "    diff_means_list.append(diff_df)\n",
    "\n",
    "# Concatenar resultados de todos los años\n",
    "diff_means_df = pd.concat(diff_means_list, keys=años)\n",
    "\n",
    "# Mostrar resultado final\n",
    "print(diff_means_df)"
   ]
  },
  {
   "cell_type": "code",
   "execution_count": 19,
   "id": "4cec1401-6fe3-4c8b-995b-aebc36bedf2e",
   "metadata": {},
   "outputs": [],
   "source": [
    "# Mapear y limpiar CH06\n",
    "df_res['CH06'] = df_res['CH06'].replace({\n",
    "    'Menos de 1 año': 0,\n",
    "    '98 y más años': 98\n",
    "}).astype(float)\n",
    "\n",
    "# Renombrar CH06 a 'edad'\n",
    "df_res = df_res.rename(columns={'CH06': 'edad'})\n",
    "\n",
    "# 1. Crear edad2\n",
    "df_res['edad2'] = df_res['edad'] ** 2"
   ]
  },
  {
   "cell_type": "code",
   "execution_count": 21,
   "id": "2e0378e7-f52c-46de-a0ab-98001a57ea92",
   "metadata": {},
   "outputs": [
    {
     "data": {
      "text/plain": [
       "array(['No', 'Sí', '0.0', 'Ns./Nr.', '1', '2', '0', '9'], dtype=object)"
      ]
     },
     "execution_count": 21,
     "metadata": {},
     "output_type": "execute_result"
    }
   ],
   "source": [
    "df_res['CH13'].unique()"
   ]
  },
  {
   "cell_type": "code",
   "execution_count": 22,
   "id": "a4a8a1a7-dffc-442b-bdbe-f0b213730018",
   "metadata": {},
   "outputs": [
    {
     "data": {
      "text/plain": [
       "array(['Secundario', 'Primario', 'Universitario', 'Terciario', '0.0',\n",
       "       'Jardín/Preescolar', 'Polimodal', 'EGB',\n",
       "       'Educación especial (discapacitado)', 'Ns./Nr.',\n",
       "       'Posgrado Universitario', '2', '7', '4', '1', '6', '0', '9', '8',\n",
       "       '3', '99', '5'], dtype=object)"
      ]
     },
     "execution_count": 22,
     "metadata": {},
     "output_type": "execute_result"
    }
   ],
   "source": [
    "df_res['CH12'].unique()"
   ]
  },
  {
   "cell_type": "code",
   "execution_count": 23,
   "id": "c998e4e5-1019-4716-aeb7-b851889e6851",
   "metadata": {},
   "outputs": [
    {
     "data": {
      "text/plain": [
       "array(['03', '  ', '04', '02', '01', '06', '00', '05', '07', '09', '99',\n",
       "       '08', '98', nan, '2.0', '1.0', '0.0', '3.0', '99.0', '4.0', '5.0',\n",
       "       '98.0', '6.0', '8.0', '7.0', '9.0'], dtype=object)"
      ]
     },
     "execution_count": 23,
     "metadata": {},
     "output_type": "execute_result"
    }
   ],
   "source": [
    "df_res['CH14'].unique()"
   ]
  },
  {
   "cell_type": "code",
   "execution_count": null,
   "id": "fce867e6-27f0-41b9-9d42-f9199dd685c8",
   "metadata": {},
   "outputs": [],
   "source": [
    "# Mapear CH13\n",
    "map_ch13 = {\n",
    "    'Sí': 1, '1': 1,\n",
    "    'No': 2, '2': 2,\n",
    "    'Ns./Nr.': 3, '0': 3, '0.0': 3, '9': 3\n",
    "    \n",
    "}\n",
    "\n",
    "df_res['CH13'] = df_res['CH13'].replace(map_ch13)\n",
    "df_res['CH13'] = pd.to_numeric(df_res['CH13'], errors='coerce').fillna(0).astype(int)\n",
    "\n",
    "# Mapear CH12\n",
    "map_ch12 = {\n",
    "    'Jardín/Preescolar': 1, '1': 1,\n",
    "    'Primario': 2, '2': 2,\n",
    "    'EGB': 3, '3': 3,\n",
    "    'Secundario': 4, '4': 4,\n",
    "    'Polimodal': 5, '5': 5,\n",
    "    'Terciario': 6, '6': 6,\n",
    "    'Universitario': 7, '7': 7,\n",
    "    'Posgrado Universitario': 8, '8': 8,\n",
    "    'Educación especial (discapacitado)': 9, '9': 9, \n",
    "     '0': 0, '0.0': 0, '99': 0\n",
    "}\n",
    "\n",
    "df_res['CH12'] = df_res['CH12'].replace(map_ch12)\n",
    "df_res['CH12'] = pd.to_numeric(df_res['CH12'], errors='coerce').fillna(0).astype(int)"
   ]
  }
 ],
 "metadata": {
  "kernelspec": {
   "display_name": "Python 3 (ipykernel)",
   "language": "python",
   "name": "python3"
  },
  "language_info": {
   "codemirror_mode": {
    "name": "ipython",
    "version": 3
   },
   "file_extension": ".py",
   "mimetype": "text/x-python",
   "name": "python",
   "nbconvert_exporter": "python",
   "pygments_lexer": "ipython3",
   "version": "3.12.7"
  }
 },
 "nbformat": 4,
 "nbformat_minor": 5
}
