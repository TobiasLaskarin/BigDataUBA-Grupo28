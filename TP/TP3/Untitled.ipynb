{
 "cells": [
  {
   "cell_type": "code",
   "execution_count": 1,
   "id": "3ca7d0f4-30f5-42c4-8cca-af64189bd02c",
   "metadata": {},
   "outputs": [
    {
     "name": "stdout",
     "output_type": "stream",
     "text": [
      "Archivo guardado en: C:/Users/Toba/FCE/Big Data/Github/BigDataUBA-Grupo28/TP/TP3/Bases/usu_individual_T104_filtrado.dta\n"
     ]
    }
   ],
   "source": [
    "import pandas as pd\n",
    "import numpy as np\n",
    "import matplotlib.pyplot as plt\n",
    "import seaborn as sns\n",
    "import matplotlib.ticker as ticker\n",
    "\n",
    "# Ruta del archivo .dta original\n",
    "input_file_path = 'C:/Users/Toba/FCE/Big Data/Github/BigDataUBA-Grupo28/TP/TP3/Bases/usu_individual_T104.dta'\n",
    "\n",
    "# Leer el archivo .dta original\n",
    "df_04 = pd.read_stata(input_file_path)\n",
    "\n",
    "# Filtrar las filas donde 'REGION' es igual a 1\n",
    "df_04_filtrado = df_04[df_04['region'] == \"Gran Buenos Aires\"].copy()\n",
    "\n",
    "for col in df_04_filtrado.select_dtypes(include='category').columns:\n",
    "    df_04_filtrado[col] = df_04_filtrado[col].cat.rename_categories(lambda x: str(x))\n",
    "\n",
    "# Ruta para guardar el nuevo archivo .dta filtrado\n",
    "output_file_path = 'C:/Users/Toba/FCE/Big Data/Github/BigDataUBA-Grupo28/TP/TP3/Bases/usu_individual_T104_filtrado.dta'\n",
    "\n",
    "# Guardar el DataFrame filtrado en un nuevo archivo .dta\n",
    "df_04_filtrado.to_stata(output_file_path)\n",
    "\n",
    "# Confirmar que se guardÃ³ correctamente\n",
    "print(f\"Archivo guardado en: {output_file_path}\")"
   ]
  },
  {
   "cell_type": "code",
   "execution_count": 2,
   "id": "4697daa8-3aa3-482d-aebb-2c2d6f1aeac8",
   "metadata": {},
   "outputs": [
    {
     "name": "stdout",
     "output_type": "stream",
     "text": [
      "Archivo guardado en: C:/Users/Toba/FCE/Big Data/Github/BigDataUBA-Grupo28/TP/TP3/Bases/usu_individual_T124_filtrado.xlsx\n"
     ]
    }
   ],
   "source": [
    "# Ruta del archivo Excel\n",
    "file_path_24 = 'C:/Users/Toba/FCE/Big Data/Github/BigDataUBA-Grupo28/TP/TP3/Bases/usu_individual_T124.xlsx'\n",
    "\n",
    "# Leer el archivo Excel\n",
    "df_24 = pd.read_excel(file_path_24)\n",
    "\n",
    "# Filtrar las filas donde 'REGION' es igual a 1\n",
    "df_24_filtrado = df_24[df_24['REGION'] == 1]\n",
    "\n",
    "# Guardar el DataFrame filtrado en un nuevo archivo Excel\n",
    "output_path = 'C:/Users/Toba/FCE/Big Data/Github/BigDataUBA-Grupo28/TP/TP3/Bases/usu_individual_T124_filtrado.xlsx'\n",
    "df_24_filtrado.to_excel(output_path, index=False)\n",
    "print(f\"Archivo guardado en: {output_path}\")"
   ]
  },
  {
   "cell_type": "code",
   "execution_count": 3,
   "id": "9e4e8b01-3392-4427-8ef2-10b77cd2cc5d",
   "metadata": {},
   "outputs": [
    {
     "name": "stdout",
     "output_type": "stream",
     "text": [
      "Archivo final guardado en:\n",
      "C:/Users/Toba/FCE/Big Data/Github/BigDataUBA-Grupo28/TP/TP2/Bases/usu_individual_T104_T124_unido.dta\n"
     ]
    }
   ],
   "source": [
    "# Rutas de los archivos\n",
    "file_path_04 = 'C:/Users/Toba/FCE/Big Data/Github/BigDataUBA-Grupo28/TP/TP3/Bases/usu_individual_T104_filtrado.dta'\n",
    "file_path_24 = 'C:/Users/Toba/FCE/Big Data/Github/BigDataUBA-Grupo28/TP/TP3/Bases/usu_individual_T124_filtrado.xlsx'\n",
    "\n",
    "# Leer los archivos\n",
    "df_04 = pd.read_stata(file_path_04)\n",
    "df_24 = pd.read_excel(file_path_24, engine='openpyxl')\n",
    "\n",
    "# 1. Normalizar los nombres de las columnas (convertir todo a mayúsculas y quitar espacios)\n",
    "df_04.columns = df_04.columns.str.strip().str.upper()\n",
    "df_24.columns = df_24.columns.str.strip().str.upper()\n",
    "\n",
    "# Filtrar solo las columnas comunes entre los dos DataFrames\n",
    "columnas_comunes = list(set(df_04.columns) & set(df_24.columns))\n",
    "\n",
    "# Filtramos ambas bases para que solo contengan las columnas comunes\n",
    "df_04 = df_04[columnas_comunes].copy()\n",
    "df_24 = df_24[columnas_comunes].copy()\n",
    "\n",
    "# Leemos el glosario en excel\n",
    "input_excel = \"C:/Users/Toba/FCE/Big Data/Github/BigDataUBA-Grupo28/TP/TP3/Bases/Glosario.xlsx\"\n",
    "glosario_df = pd.read_excel(input_excel)\n",
    "\n",
    "# Iterar por cada variable única en el glosario\n",
    "for variable in glosario_df['Variable'].unique():\n",
    "    # Filtrar las filas del glosario correspondientes a esa variable\n",
    "    mapeo = glosario_df[glosario_df['Variable'] == variable]\n",
    "    \n",
    "    # Crear un diccionario de mapeo: {valor_numérico_2004: texto_2024}\n",
    "    diccionario = dict(zip(mapeo['Valor Numérico 2024'], mapeo['Categoría (Texto) 2004']))\n",
    "    \n",
    "    # Aplicar el reemplazo en el DataFrame\n",
    "    if variable in df_24.columns:\n",
    "        df_24[variable] = df_24[variable].map(diccionario)\n",
    "\n",
    "# Ahora df_04 tiene valores de texto como en 2024\n",
    "\n",
    "# Eliminar columnas completamente vacías\n",
    "df_04 = df_04.dropna(axis=1, how='all')\n",
    "df_24 = df_24.dropna(axis=1, how='all')\n",
    "\n",
    "# Unir ambos DataFrames\n",
    "df_unido = pd.concat([df_04, df_24], ignore_index=True)\n",
    "\n",
    "# Función para forzar columnas tipo object a string, reemplazando valores problemáticos\n",
    "def limpiar_columnas_para_stata(df_unido):\n",
    "    for col in df_unido.columns:\n",
    "        if df_unido[col].dtype == 'object':\n",
    "            df_unido[col] = df_unido[col].apply(lambda x: str(x) if pd.notnull(x) else None)\n",
    "    return df_unido\n",
    "\n",
    "# Limpiar el DataFrame antes de exportar\n",
    "df_unido = limpiar_columnas_para_stata(df_unido)\n",
    "\n",
    "# Exportar el DataFrame unido a un archivo .dta (Stata)\n",
    "output_path = 'C:/Users/Toba/FCE/Big Data/Github/BigDataUBA-Grupo28/TP/TP2/Bases/usu_individual_T104_T124_unido.dta'\n",
    "df_unido.to_stata(output_path, write_index=False)\n",
    "\n",
    "print(f\"Archivo final guardado en:\\n{output_path}\")"
   ]
  },
  {
   "cell_type": "code",
   "execution_count": 9,
   "id": "83d31c82-73fc-4cfe-9cc3-dc82dc908c6b",
   "metadata": {},
   "outputs": [
    {
     "name": "stdout",
     "output_type": "stream",
     "text": [
      "['03' '  ' '04' '02' '01' '06' '00' '05' '07' '09' '99' '08' '98'\n",
      " 'Educación especial' 'Segundo' 'Primero' 'Ninguno' 'Tercero' 'Ns/Nr'\n",
      " 'Noveno' 'Cuarto' 'Quinto' None 'Sexto' 'Octavo' 'Séptimo']\n"
     ]
    }
   ],
   "source": [
    "print(df_unido[\"CH14\"].unique())"
   ]
  },
  {
   "cell_type": "code",
   "execution_count": 8,
   "id": "f56583b1-ec3e-4de4-bd4b-b5777778f9e0",
   "metadata": {},
   "outputs": [
    {
     "name": "stdout",
     "output_type": "stream",
     "text": [
      "['03' '  ' '04' '02' '01' '06' '00' '05' '07' '09' '99' '08' '98']\n"
     ]
    }
   ],
   "source": [
    "print(df_04[\"CH14\"].unique())"
   ]
  },
  {
   "cell_type": "code",
   "execution_count": 7,
   "id": "2c530fe6-f85b-421b-b60a-4363b890e4bb",
   "metadata": {},
   "outputs": [
    {
     "name": "stdout",
     "output_type": "stream",
     "text": [
      "['Educación especial' 'Segundo' 'Primero' 'Ninguno' 'Tercero' 'Ns/Nr'\n",
      " 'Noveno' 'Cuarto' 'Quinto' nan 'Sexto' 'Octavo' 'Séptimo']\n"
     ]
    }
   ],
   "source": [
    "print(df_24[\"CH14\"].unique())"
   ]
  },
  {
   "cell_type": "code",
   "execution_count": 11,
   "id": "7fd57971-855c-44c3-9d10-5ff6bb90dfc1",
   "metadata": {},
   "outputs": [
    {
     "name": "stdout",
     "output_type": "stream",
     "text": [
      "       Variable Tipo original    Interpretación\n",
      "0        PP02C4      category          category\n",
      "1         V10_M       float64           float64\n",
      "2        PP07G2      category          category\n",
      "3    PP04B3_MES       float64           float64\n",
      "4         PP04A      category          category\n",
      "..          ...           ...               ...\n",
      "167      PP07F4      category          category\n",
      "168       PP02E      category          category\n",
      "169     PDECIFR        object  Texto (palabras)\n",
      "170       PP05E      category          category\n",
      "171    CAT_INAC      category          category\n",
      "\n",
      "[172 rows x 3 columns]\n"
     ]
    }
   ],
   "source": [
    "def analizar_tipos(df_04):\n",
    "    resultado = []\n",
    "\n",
    "    for col in df_04.columns:\n",
    "        tipo = df_04[col].dtype\n",
    "\n",
    "        if tipo == 'object' or tipo.name == 'string':\n",
    "            muestra = df_04[col].dropna().astype(str).head(100)  # Tomamos una muestra\n",
    "            son_numeros = muestra.apply(lambda x: x.replace('.', '', 1).isdigit()).sum()\n",
    "            total = len(muestra)\n",
    "            porcentaje_numeros = son_numeros / total if total > 0 else 0\n",
    "\n",
    "            if porcentaje_numeros == 1.0:\n",
    "                interpretacion = \"Texto (solo números)\"\n",
    "            elif porcentaje_numeros > 0:\n",
    "                interpretacion = \"Texto (mixto números y palabras)\"\n",
    "            else:\n",
    "                interpretacion = \"Texto (palabras)\"\n",
    "        else:\n",
    "            interpretacion = str(tipo)\n",
    "\n",
    "        resultado.append((col, tipo, interpretacion))\n",
    "\n",
    "    return pd.DataFrame(resultado, columns=['Variable', 'Tipo original', 'Interpretación'])\n",
    "\n",
    "# Aplicar al DataFrame que quieras analizar\n",
    "tipos_df = analizar_tipos(df_04)\n",
    "print(tipos_df)"
   ]
  },
  {
   "cell_type": "code",
   "execution_count": null,
   "id": "a66c2845-8f28-421d-b2ac-b36bfce77698",
   "metadata": {},
   "outputs": [],
   "source": []
  }
 ],
 "metadata": {
  "kernelspec": {
   "display_name": "Python 3 (ipykernel)",
   "language": "python",
   "name": "python3"
  },
  "language_info": {
   "codemirror_mode": {
    "name": "ipython",
    "version": 3
   },
   "file_extension": ".py",
   "mimetype": "text/x-python",
   "name": "python",
   "nbconvert_exporter": "python",
   "pygments_lexer": "ipython3",
   "version": "3.12.7"
  }
 },
 "nbformat": 4,
 "nbformat_minor": 5
}
