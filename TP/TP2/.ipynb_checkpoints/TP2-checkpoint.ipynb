{
 "cells": [
  {
   "cell_type": "code",
   "execution_count": 145,
   "id": "51727dd2-75dd-4023-be24-99024ed3b75e",
   "metadata": {
    "scrolled": true
   },
   "outputs": [
    {
     "name": "stdout",
     "output_type": "stream",
     "text": [
      "Archivo guardado en: C:/Users/Toba/FCE/Big Data/Github/BigDataUBA-Grupo28/TP/TP2/Bases/usu_individual_T104_filtrado.dta\n"
     ]
    }
   ],
   "source": [
    "import pandas as pd\n",
    "\n",
    "# Ruta del archivo .dta original\n",
    "input_file_path = 'C:/Users/Toba/FCE/Big Data/Github/BigDataUBA-Grupo28/TP/TP2/Bases/usu_individual_T104.dta'\n",
    "\n",
    "# Leer el archivo .dta original\n",
    "df_04 = pd.read_stata(input_file_path)\n",
    "\n",
    "# Filtrar las filas donde 'REGION' es igual a 1\n",
    "df_04_filtrado = df_04[df_04['region'] == \"Gran Buenos Aires\"].copy()\n",
    "\n",
    "for col in df_04_filtrado.select_dtypes(include='category').columns:\n",
    "    df_04_filtrado[col] = df_04_filtrado[col].cat.rename_categories(lambda x: str(x))\n",
    "\n",
    "# Ruta para guardar el nuevo archivo .dta filtrado\n",
    "output_file_path = 'C:/Users/Toba/FCE/Big Data/Github/BigDataUBA-Grupo28/TP/TP2/Bases/usu_individual_T104_filtrado.dta'\n",
    "\n",
    "# Guardar el DataFrame filtrado en un nuevo archivo .dta\n",
    "df_04_filtrado.to_stata(output_file_path)\n",
    "\n",
    "# Confirmar que se guardó correctamente\n",
    "print(f\"Archivo guardado en: {output_file_path}\")"
   ]
  },
  {
   "cell_type": "code",
   "execution_count": null,
   "id": "561ed21f-1ca5-4275-961e-b51b5f602aa5",
   "metadata": {
    "scrolled": true
   },
   "outputs": [],
   "source": [
    "# Ruta del archivo Excel\n",
    "file_path_24 = 'C:/Users/Toba/FCE/Big Data/Github/BigDataUBA-Grupo28/TP/TP2/Bases/usu_individual_T124.xlsx'\n",
    "\n",
    "# Leer el archivo Excel\n",
    "df_24 = pd.read_excel(file_path_24)\n",
    "\n",
    "# Filtrar las filas donde 'REGION' es igual a 1\n",
    "df_24_filtrado = df_24[df_24['REGION'] == 1]\n",
    "\n",
    "# Guardar el DataFrame filtrado en un nuevo archivo Excel\n",
    "output_path = 'C:/Users/Toba/FCE/Big Data/Github/BigDataUBA-Grupo28/TP/TP2/Bases/usu_individual_T124_filtrado.xlsx'\n",
    "df_24_filtrado.to_excel(output_path, index=False)\n",
    "print(f\"Archivo guardado en: {output_file_path}\")"
   ]
  },
  {
   "cell_type": "code",
   "execution_count": 143,
   "id": "3e30c3ab-c234-4942-93ff-67c974cebe13",
   "metadata": {},
   "outputs": [
    {
     "name": "stdout",
     "output_type": "stream",
     "text": [
      "✅ Archivo final guardado en:\n",
      "C:/Users/Toba/FCE/Big Data/Github/BigDataUBA-Grupo28/TP/TP2/Bases/usu_individual_T104_T124_unido.dta\n"
     ]
    }
   ],
   "source": [
    "import pandas as pd\n",
    "\n",
    "# Rutas de los archivos\n",
    "file_path_04 = 'C:/Users/Toba/FCE/Big Data/Github/BigDataUBA-Grupo28/TP/TP2/Bases/usu_individual_T104_filtrado.dta'\n",
    "file_path_24 = 'C:/Users/Toba/FCE/Big Data/Github/BigDataUBA-Grupo28/TP/TP2/Bases/usu_individual_T124_filtrado.xlsx'\n",
    "\n",
    "# Leer los archivos\n",
    "df_04 = pd.read_stata(file_path_04)\n",
    "df_24 = pd.read_excel(file_path_24, engine='openpyxl')\n",
    "\n",
    "# 1. Normalizar los nombres de las columnas (convertir todo a mayúsculas y quitar espacios)\n",
    "df_04.columns = df_04.columns.str.strip().str.upper()\n",
    "df_24.columns = df_24.columns.str.strip().str.upper()\n",
    "\n",
    "# 2. Filtrar solo las columnas comunes entre los dos DataFrames\n",
    "columnas_comunes = list(set(df_04.columns) & set(df_24.columns))\n",
    "\n",
    "# Filtramos ambas bases para que solo contengan las columnas comunes\n",
    "df_04 = df_04[columnas_comunes].copy()\n",
    "df_24 = df_24[columnas_comunes].copy()\n",
    "\n",
    "# 3. Asegurarnos de que todas las columnas tengan el mismo tipo de datos\n",
    "# Convertimos las columnas que sean numéricas o de tipo float a string si es necesario\n",
    "for col in columnas_comunes:\n",
    "    # Si la columna tiene un tipo de datos inconsistente (por ejemplo, mezclado entre string y float), la forzamos a string\n",
    "    if df_04[col].dtype != df_24[col].dtype:\n",
    "        try:\n",
    "            # Convertimos ambas columnas a string (o nan donde sea necesario)\n",
    "            df_04[col] = df_04[col].apply(lambda x: str(x) if pd.notnull(x) else None)\n",
    "            df_24[col] = df_24[col].apply(lambda x: str(x) if pd.notnull(x) else None)\n",
    "        except Exception as e:\n",
    "            print(f\"Error al convertir columna {col}: {e}\")\n",
    "\n",
    "# 4. Unir ambos DataFrames\n",
    "df_unido = pd.concat([df_04, df_24], ignore_index=True)\n",
    "\n",
    "# 6. Exportar el DataFrame unido a un archivo .dta (Stata)\n",
    "output_path = 'C:/Users/Toba/FCE/Big Data/Github/BigDataUBA-Grupo28/TP/TP2/Bases/usu_individual_T104_T124_unido.dta'\n",
    "df_unido.to_stata(output_path, write_index=False)\n",
    "\n",
    "print(f\"Archivo final guardado en:\\n{output_path}\")"
   ]
  },
  {
   "cell_type": "code",
   "execution_count": 122,
   "id": "6c9cfe3b-8d0f-4160-b99c-9d445ca7b7e9",
   "metadata": {
    "scrolled": true
   },
   "outputs": [
    {
     "name": "stdout",
     "output_type": "stream",
     "text": [
      "Valores nulos por variable:\n"
     ]
    },
    {
     "data": {
      "text/plain": [
       "'PP11A - 2004: 7261 | 2024: 6812'"
      ]
     },
     "metadata": {},
     "output_type": "display_data"
    },
    {
     "data": {
      "text/plain": [
       "'CH15 - 2004: 3 | 2024: 0'"
      ]
     },
     "metadata": {},
     "output_type": "display_data"
    },
    {
     "data": {
      "text/plain": [
       "'CAT_OCUP - 2004: 4177 | 2024: 3588'"
      ]
     },
     "metadata": {},
     "output_type": "display_data"
    },
    {
     "data": {
      "text/plain": [
       "'CAT_INAC - 2004: 3617 | 2024: 3576'"
      ]
     },
     "metadata": {},
     "output_type": "display_data"
    },
    {
     "data": {
      "text/plain": [
       "'V18_M - 2004: 7642 | 2024: 7044'"
      ]
     },
     "metadata": {},
     "output_type": "display_data"
    },
    {
     "data": {
      "text/plain": [
       "'V11_M - 2004: 7634 | 2024: 6983'"
      ]
     },
     "metadata": {},
     "output_type": "display_data"
    },
    {
     "data": {
      "text/plain": [
       "'V19_AM - 2004: 7647 | 2024: 7051'"
      ]
     },
     "metadata": {},
     "output_type": "display_data"
    },
    {
     "data": {
      "text/plain": [
       "'V5_M - 2004: 7540 | 2024: 6788'"
      ]
     },
     "metadata": {},
     "output_type": "display_data"
    },
    {
     "data": {
      "text/plain": [
       "'V2_M - 2004: 6883 | 2024: 5886'"
      ]
     },
     "metadata": {},
     "output_type": "display_data"
    },
    {
     "data": {
      "text/plain": [
       "'ESTADO - 2004: 0 | 2024: 41'"
      ]
     },
     "metadata": {},
     "output_type": "display_data"
    },
    {
     "data": {
      "text/plain": [
       "'NIVEL_ED - 2004: 0 | 2024: 0'"
      ]
     },
     "metadata": {},
     "output_type": "display_data"
    },
    {
     "data": {
      "text/plain": [
       "'CH07 - 2004: 0 | 2024: 0'"
      ]
     },
     "metadata": {},
     "output_type": "display_data"
    },
    {
     "data": {
      "text/plain": [
       "'CH06 - 2004: 0 | 2024: 51'"
      ]
     },
     "metadata": {},
     "output_type": "display_data"
    },
    {
     "data": {
      "text/plain": [
       "'CH04 - 2004: 0 | 2024: 0'"
      ]
     },
     "metadata": {},
     "output_type": "display_data"
    },
    {
     "data": {
      "text/plain": [
       "'ANO4 - 2004: 0 | 2024: 0'"
      ]
     },
     "metadata": {},
     "output_type": "display_data"
    }
   ],
   "source": [
    "import numpy as np\n",
    "import pandas as pd\n",
    "\n",
    "# Evita el warning por downcasting\n",
    "pd.set_option('future.no_silent_downcasting', True)\n",
    "\n",
    "# Variables a trabajar\n",
    "variables = ['PP11A', 'CH15', 'CAT_OCUP', 'CAT_INAC', 'V18_M',\n",
    "             'V11_M', 'V19_AM', 'V5_M', 'V2_M', 'ESTADO',\n",
    "             'NIVEL_ED', 'CH07', 'CH06', 'CH04', 'ANO4']\n",
    "\n",
    "df_limpio = df_unido.copy()\n",
    "\n",
    "# Valores a reemplazar por NaN\n",
    "valores_invalidos = ['99', '999', '9999', '-1', '-9', '0', '0.0', 'Ns./Nr.',\n",
    "                     'Entrevista individual no realizada (no respuesta al cuestion)', None]\n",
    "\n",
    "# Paso 1: Reemplazo de valores inválidos *Clean\n",
    "for col in variables:\n",
    "    df_limpio[col] = df_limpio[col].replace(valores_invalidos, np.nan, regex=False)\n",
    "\n",
    "# Paso 2: Conversión condicional a numérico (solo si los valores no nulos parecen ser todos dígitos)\n",
    "for col in variables:\n",
    "    muestra = df_limpio[col].dropna().astype(str)\n",
    "    if not muestra.empty and muestra.apply(lambda x: x.replace('.', '', 1).isdigit()).all():\n",
    "        df_limpio[col] = pd.to_numeric(df_limpio[col], errors='coerce')\n",
    "\n",
    "# Paso 3: Filtro por año\n",
    "df_limpio['ANO4'] = pd.to_numeric(df_limpio['ANO4'], errors='coerce')\n",
    "df_2004 = df_limpio[df_limpio['ANO4'] == 2004]\n",
    "df_2024 = df_limpio[df_limpio['ANO4'] == 2024]\n",
    "\n",
    "# Paso 4: Conteo de nulos por variable y año\n",
    "print(\"Valores nulos por variable:\")\n",
    "for var in variables:\n",
    "    nulos_2004 = df_2004[var].isnull().sum()\n",
    "    nulos_2024 = df_2024[var].isnull().sum()\n",
    "    display(f\"{var} - 2004: {nulos_2004} | 2024: {nulos_2024}\")"
   ]
  },
  {
   "cell_type": "code",
   "execution_count": 123,
   "id": "a188776a-22d6-4188-afb5-69ff39eee235",
   "metadata": {},
   "outputs": [
    {
     "data": {
      "text/html": [
       "<div>\n",
       "<style scoped>\n",
       "    .dataframe tbody tr th:only-of-type {\n",
       "        vertical-align: middle;\n",
       "    }\n",
       "\n",
       "    .dataframe tbody tr th {\n",
       "        vertical-align: top;\n",
       "    }\n",
       "\n",
       "    .dataframe thead th {\n",
       "        text-align: right;\n",
       "    }\n",
       "</style>\n",
       "<table border=\"1\" class=\"dataframe\">\n",
       "  <thead>\n",
       "    <tr style=\"text-align: right;\">\n",
       "      <th></th>\n",
       "      <th>Variable</th>\n",
       "      <th>Año</th>\n",
       "      <th>Total_Nulos</th>\n",
       "    </tr>\n",
       "  </thead>\n",
       "  <tbody>\n",
       "    <tr>\n",
       "      <th>12</th>\n",
       "      <td>V19_AM</td>\n",
       "      <td>2004</td>\n",
       "      <td>7647</td>\n",
       "    </tr>\n",
       "    <tr>\n",
       "      <th>8</th>\n",
       "      <td>V18_M</td>\n",
       "      <td>2004</td>\n",
       "      <td>7642</td>\n",
       "    </tr>\n",
       "    <tr>\n",
       "      <th>10</th>\n",
       "      <td>V11_M</td>\n",
       "      <td>2004</td>\n",
       "      <td>7634</td>\n",
       "    </tr>\n",
       "    <tr>\n",
       "      <th>14</th>\n",
       "      <td>V5_M</td>\n",
       "      <td>2004</td>\n",
       "      <td>7540</td>\n",
       "    </tr>\n",
       "    <tr>\n",
       "      <th>0</th>\n",
       "      <td>PP11A</td>\n",
       "      <td>2004</td>\n",
       "      <td>7261</td>\n",
       "    </tr>\n",
       "  </tbody>\n",
       "</table>\n",
       "</div>"
      ],
      "text/plain": [
       "   Variable   Año  Total_Nulos\n",
       "12   V19_AM  2004         7647\n",
       "8     V18_M  2004         7642\n",
       "10    V11_M  2004         7634\n",
       "14     V5_M  2004         7540\n",
       "0     PP11A  2004         7261"
      ]
     },
     "metadata": {},
     "output_type": "display_data"
    }
   ],
   "source": [
    "#Conteo de nulos por variable y año\n",
    "nulos_data = []\n",
    "\n",
    "# Contar nulos para cada variable por año (2004 y 2024)\n",
    "for var in variables:\n",
    "    nulos_2004 = df_limpio[df_limpio['ANO4'] == 2004][var].isnull().sum()\n",
    "    nulos_2024 = df_limpio[df_limpio['ANO4'] == 2024][var].isnull().sum()\n",
    "\n",
    "    # Agregar los datos a la lista con el identificador de año\n",
    "    nulos_data.append([var, '2004', nulos_2004])\n",
    "    nulos_data.append([var, '2024', nulos_2024])\n",
    "\n",
    "# Crear DataFrame con los resultados\n",
    "df_nulos = pd.DataFrame(nulos_data, columns=['Variable', 'Año', 'Total_Nulos'])\n",
    "\n",
    "# Ordenar por total de nulos de manera descendente\n",
    "df_nulos_sorted = df_nulos.sort_values(by='Total_Nulos', ascending=False)\n",
    "\n",
    "# Imprimir la tabla ordenada\n",
    "display(df_nulos_sorted.head(5))"
   ]
  },
  {
   "cell_type": "code",
   "execution_count": 124,
   "id": "d1b1ef22-dabd-4309-9c08-1ee9337e7854",
   "metadata": {},
   "outputs": [
    {
     "name": "stdout",
     "output_type": "stream",
     "text": [
      "Valores negativos en la columna V18_M:\n",
      "[-9.]\n",
      "\n",
      "\n",
      "Valores negativos en la columna V11_M:\n",
      "[-9.]\n",
      "\n",
      "\n",
      "Valores negativos en la columna V5_M:\n",
      "[-9.]\n",
      "\n",
      "\n",
      "Valores negativos en la columna V2_M:\n",
      "[-9.]\n",
      "\n",
      "\n",
      "Valores negativos en la columna CH06:\n",
      "[-1.]\n",
      "\n",
      "\n"
     ]
    }
   ],
   "source": [
    "# Variables a revisar\n",
    "variables = ['PP11A', 'CH15', 'CAT_OCUP', 'CAT_INAC', 'V18_M',\n",
    "             'V11_M', 'V19_AM', 'V5_M', 'V2_M', 'ESTADO',\n",
    "             'NIVEL_ED', 'CH07', 'CH06', 'CH04', 'ANO4']\n",
    "\n",
    "# Obtener y mostrar solo los valores negativos para cada variable\n",
    "for col in variables:\n",
    "    # Convertir la columna a numérico\n",
    "    df_unido[col] = pd.to_numeric(df_unido[col], errors='coerce')\n",
    "    \n",
    "    # Filtrar los valores negativos\n",
    "    negativos = df_unido[col][df_unido[col] < 0].unique()\n",
    "    \n",
    "    # Mostrar solo las columnas que tienen valores negativos\n",
    "    if len(negativos) > 0:\n",
    "        print(f\"Valores negativos en la columna {col}:\")\n",
    "        print(negativos)\n",
    "        print(\"\\n\")\n",
    "# En este paso mostramos que variables tienen valores negativos. Esos valores los habiamos limpiado antes en *Clean."
   ]
  },
  {
   "cell_type": "code",
   "execution_count": 140,
   "id": "1bec0fde-3504-4803-9c11-def5c08eb499",
   "metadata": {},
   "outputs": [
    {
     "data": {
      "image/png": "[encoded data removed]",
      "text/plain": [
       "<Figure size 1000x600 with 1 Axes>"
      ]
     },
     "metadata": {},
     "output_type": "display_data"
    }
   ],
   "source": [
    "import pandas as pd\n",
    "import matplotlib.pyplot as plt\n",
    "\n",
    "# Reemplazar los valores de 'Varón' y 'Mujer' con 1 y 2 respectivamente\n",
    "df_limpio['CH04'] = df_limpio['CH04'].replace({'Varón': 1, 'Mujer': 2, '1': 1, '2': 2})\n",
    "\n",
    "# Convertir 'ANO4' a tipo int para eliminar el '.0'\n",
    "df_limpio['ANO4'] = df_limpio['ANO4'].astype(int)\n",
    "\n",
    "# Filtramos los datos para los años 2004 y 2024\n",
    "df_filtrado = df_limpio[df_limpio['ANO4'].isin([2004, 2024])]\n",
    "\n",
    "# Contamos las ocurrencias por sexo y año\n",
    "sexo_por_ano = df_filtrado.groupby(['ANO4', 'CH04']).size().unstack().fillna(0)\n",
    "\n",
    "# Colores personalizados\n",
    "colores = ['#FF69B4', '#1E90FF']  # Rosa para Femenino, Azul para Masculino\n",
    "\n",
    "# Graficamos el gráfico de barras\n",
    "ax = sexo_por_ano.plot(kind='bar', stacked=False, figsize=(10, 6), color=colores)\n",
    "\n",
    "# Añadimos títulos y etiquetas\n",
    "plt.title('Composición por sexo en 2004 y 2024')\n",
    "plt.xlabel('Año')\n",
    "plt.ylabel('Cantidad de personas')\n",
    "plt.xticks(rotation=0)\n",
    "\n",
    "# Personalizamos los ticks del eje Y para eliminar el \".0\"\n",
    "plt.gca().yaxis.set_major_formatter(plt.FuncFormatter(lambda x, loc: f'{int(x)}'))\n",
    "\n",
    "# Añadimos la leyenda y etiquetas personalizadas\n",
    "plt.legend(title='Sexo', labels=['Femenino', 'Masculino'])\n",
    "\n",
    "# Mostramos el gráfico\n",
    "plt.show()"
   ]
  },
  {
   "cell_type": "code",
   "execution_count": null,
   "id": "ffdef9ec-4ae4-4107-8699-51212b580239",
   "metadata": {},
   "outputs": [],
   "source": []
  }
 ],
 "metadata": {
  "kernelspec": {
   "display_name": "Python 3 (ipykernel)",
   "language": "python",
   "name": "python3"
  },
  "language_info": {
   "codemirror_mode": {
    "name": "ipython",
    "version": 3
   },
   "file_extension": ".py",
   "mimetype": "text/x-python",
   "name": "python",
   "nbconvert_exporter": "python",
   "pygments_lexer": "ipython3",
   "version": "3.12.7"
  }
 },
 "nbformat": 4,
 "nbformat_minor": 5
}
